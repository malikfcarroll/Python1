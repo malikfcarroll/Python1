{
 "cells": [
  {
   "cell_type": "code",
   "execution_count": 6,
   "metadata": {},
   "outputs": [],
   "source": [
    "import pandas as pd"
   ]
  },
  {
   "cell_type": "code",
   "execution_count": 7,
   "metadata": {},
   "outputs": [
    {
     "data": {
      "text/html": [
       "<div>\n",
       "<style scoped>\n",
       "    .dataframe tbody tr th:only-of-type {\n",
       "        vertical-align: middle;\n",
       "    }\n",
       "\n",
       "    .dataframe tbody tr th {\n",
       "        vertical-align: top;\n",
       "    }\n",
       "\n",
       "    .dataframe thead th {\n",
       "        text-align: right;\n",
       "    }\n",
       "</style>\n",
       "<table border=\"1\" class=\"dataframe\">\n",
       "  <thead>\n",
       "    <tr style=\"text-align: right;\">\n",
       "      <th></th>\n",
       "      <th>Voter ID</th>\n",
       "      <th>County</th>\n",
       "      <th>Candidate</th>\n",
       "    </tr>\n",
       "  </thead>\n",
       "  <tbody>\n",
       "    <tr>\n",
       "      <th>0</th>\n",
       "      <td>12864552</td>\n",
       "      <td>Marsh</td>\n",
       "      <td>Khan</td>\n",
       "    </tr>\n",
       "    <tr>\n",
       "      <th>1</th>\n",
       "      <td>17444633</td>\n",
       "      <td>Marsh</td>\n",
       "      <td>Correy</td>\n",
       "    </tr>\n",
       "    <tr>\n",
       "      <th>2</th>\n",
       "      <td>19330107</td>\n",
       "      <td>Marsh</td>\n",
       "      <td>Khan</td>\n",
       "    </tr>\n",
       "    <tr>\n",
       "      <th>3</th>\n",
       "      <td>19865775</td>\n",
       "      <td>Queen</td>\n",
       "      <td>Khan</td>\n",
       "    </tr>\n",
       "    <tr>\n",
       "      <th>4</th>\n",
       "      <td>11927875</td>\n",
       "      <td>Marsh</td>\n",
       "      <td>Khan</td>\n",
       "    </tr>\n",
       "  </tbody>\n",
       "</table>\n",
       "</div>"
      ],
      "text/plain": [
       "   Voter ID County Candidate\n",
       "0  12864552  Marsh      Khan\n",
       "1  17444633  Marsh    Correy\n",
       "2  19330107  Marsh      Khan\n",
       "3  19865775  Queen      Khan\n",
       "4  11927875  Marsh      Khan"
      ]
     },
     "execution_count": 7,
     "metadata": {},
     "output_type": "execute_result"
    }
   ],
   "source": [
    "election_data = pd.read_csv('election_data.csv')\n",
    "election_data.head()"
   ]
  },
  {
   "cell_type": "code",
   "execution_count": 9,
   "metadata": {},
   "outputs": [
    {
     "name": "stdout",
     "output_type": "stream",
     "text": [
      "Total number of votes: 3521001\n"
     ]
    }
   ],
   "source": [
    "print('Total number of votes: ' + str(len(election_data)))"
   ]
  },
  {
   "cell_type": "code",
   "execution_count": 11,
   "metadata": {},
   "outputs": [],
   "source": [
    "candidates = election_data['Candidate']\n",
    "khan = []\n",
    "correy = []\n",
    "li = []\n",
    "otooley = []\n",
    "\n",
    "for i in range(0, len(candidates)):\n",
    "    if candidates[i] == 'Khan':\n",
    "        vote = 'Khan'\n",
    "        khan.append(vote)\n",
    "    elif candidates[i] == 'Correy':\n",
    "        vote = 'Correy'\n",
    "        correy.append(vote)\n",
    "    elif candidates[i] == 'Li':\n",
    "        vote = 'Li'\n",
    "        li.append(vote)\n",
    "    else:\n",
    "        vote = \"O'Tooley\"\n",
    "        otooley.append(vote)\n",
    "        \n",
    "        "
   ]
  },
  {
   "cell_type": "code",
   "execution_count": 12,
   "metadata": {},
   "outputs": [],
   "source": [
    "khanvotes = len(khan)\n",
    "correyvotes = len(correy)\n",
    "livotes = len(li)\n",
    "otooleyvotes = len(otooley)"
   ]
  },
  {
   "cell_type": "code",
   "execution_count": 14,
   "metadata": {},
   "outputs": [
    {
     "name": "stdout",
     "output_type": "stream",
     "text": [
      "Khan: 2218231 votes, 63.00001050837531 % of the popular vote\n",
      "Correy: 704200 votes, 19.999994319797125 % of the popular vote\n",
      "Li: 492940 votes, 13.999996023857989 % of the popular vote\n",
      "O'Tooley: 105630 votes, 2.999999147969569 % of the popular vote\n"
     ]
    }
   ],
   "source": [
    "print('Khan: ' + str(khanvotes) + ' votes, ' + str(100*(khanvotes / len(election_data))) + ' % of the popular vote')\n",
    "print('Correy: ' + str(correyvotes) + ' votes, ' + str(100*(correyvotes / len(election_data))) + ' % of the popular vote')\n",
    "print('Li: ' + str(livotes) + ' votes, ' + str(100*(livotes / len(election_data))) + ' % of the popular vote')\n",
    "print(\"O'Tooley: \" + str(otooleyvotes) + ' votes, ' + str(100*(otooleyvotes / len(election_data))) + ' % of the popular vote')"
   ]
  },
  {
   "cell_type": "code",
   "execution_count": 15,
   "metadata": {},
   "outputs": [
    {
     "name": "stdout",
     "output_type": "stream",
     "text": [
      "The winner is: Khan\n"
     ]
    }
   ],
   "source": [
    "print('The winner is: Khan')"
   ]
  },
  {
   "cell_type": "code",
   "execution_count": null,
   "metadata": {},
   "outputs": [],
   "source": []
  }
 ],
 "metadata": {
  "kernelspec": {
   "display_name": "Python 3",
   "language": "python",
   "name": "python3"
  },
  "language_info": {
   "codemirror_mode": {
    "name": "ipython",
    "version": 3
   },
   "file_extension": ".py",
   "mimetype": "text/x-python",
   "name": "python",
   "nbconvert_exporter": "python",
   "pygments_lexer": "ipython3",
   "version": "3.7.1"
  }
 },
 "nbformat": 4,
 "nbformat_minor": 2
}
